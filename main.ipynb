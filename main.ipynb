{
 "cells": [
  {
   "cell_type": "code",
   "execution_count": 4,
   "metadata": {},
   "outputs": [],
   "source": [
    "from math import radians, sin, cos\n",
    "import math\n",
    "from numpy.random import randn\n",
    "import matplotlib.pyplot as plt\n",
    "from filterpy.kalman import KalmanFilter\n",
    "import numpy as np"
   ]
  },
  {
   "cell_type": "code",
   "execution_count": 5,
   "metadata": {},
   "outputs": [],
   "source": [
    "\"\"\"рунге-кутта-4\"\"\"\n",
    "\n",
    "def rk4(y, x, dx, f):\n",
    "    \n",
    "    k1 = dx * f(y, x)\n",
    "    k2 = dx * f(y + 0.5*k1, x + 0.5*dx)\n",
    "    k3 = dx * f(y + 0.5*k2, x + 0.5*dx)\n",
    "    k4 = dx * f(y + k3, x + dx)\n",
    "    \n",
    "    return y + (k1 + 2*k2 + 2*k3 + k4) / 6."
   ]
  },
  {
   "cell_type": "code",
   "execution_count": 6,
   "metadata": {},
   "outputs": [],
   "source": [
    "def fx(x,t):\n",
    "    return fx.vel\n",
    "    \n",
    "def fy(y,t):\n",
    "    return fy.vel - 9.8*t"
   ]
  },
  {
   "cell_type": "code",
   "execution_count": 7,
   "metadata": {},
   "outputs": [],
   "source": [
    "class BallTrajectory2D(object):\n",
    "    def __init__(self, x0, y0, velocity, \n",
    "                 theta_deg=0., \n",
    "                 g=9.8, \n",
    "                 noise=[0.0, 0.0]):\n",
    "        self.x = x0\n",
    "        self.y = y0\n",
    "        self.t = 0        \n",
    "        theta = math.radians(theta_deg)\n",
    "        fx.vel = math.cos(theta) * velocity\n",
    "        fy.vel = math.sin(theta) * velocity        \n",
    "        self.g = g\n",
    "        self.noise = noise\n",
    "        \n",
    "        \n",
    "    def step(self, dt):\n",
    "        self.x = rk4(self.x, self.t, dt, fx)\n",
    "        self.y = rk4(self.y, self.t, dt, fy)\n",
    "        self.t += dt \n",
    "        return (self.x + randn()*self.noise[0], \n",
    "                self.y + randn()*self.noise[1])"
   ]
  },
  {
   "cell_type": "code",
   "execution_count": 8,
   "metadata": {},
   "outputs": [
    {
     "data": {
      "image/png": "[encoded data removed]",
      "text/plain": [
       "<Figure size 432x288 with 1 Axes>"
      ]
     },
     "metadata": {
      "needs_background": "light"
     },
     "output_type": "display_data"
    }
   ],
   "source": [
    "def test_ball_vacuum(noise):\n",
    "    y = 15\n",
    "    x = 0\n",
    "    ball = BallTrajectory2D(x0=x, y0=y, \n",
    "                            theta_deg=60., velocity=100., \n",
    "                            noise=noise)\n",
    "    t = 0\n",
    "    dt = 0.25\n",
    "    while y >= 0:\n",
    "        x, y = ball.step(dt)\n",
    "        t += dt\n",
    "        if y >= 0:\n",
    "            plt.scatter(x, y, color='r', marker='.', s=75, alpha=0.5)\n",
    "         \n",
    "    plt.axis('equal');\n",
    "    \n",
    "#test_ball_vacuum([0, 0]) # plot ideal ball position\n",
    "test_ball_vacuum([1, 1]) # plot with noise "
   ]
  },
  {
   "cell_type": "code",
   "execution_count": 9,
   "metadata": {},
   "outputs": [],
   "source": [
    "def ball_kf(x, y, omega, v0, dt, r=0.5, q=0.):\n",
    "    kf = KalmanFilter(dim_x=4, dim_z=2, dim_u=1)\n",
    "\n",
    "    kf.F = np.array([[1., dt, 0., 0.],   # x   = x0 + dx*dt\n",
    "                     [0., 1., 0., 0.],   # dx  = dx0\n",
    "                     [0., 0., 1., dt],   # y   = y0 + dy*dt\n",
    "                     [0., 0., 0., 1.]])  # dy  = dy0\n",
    "\n",
    "    kf.H = np.array([[1., 0., 0., 0.],\n",
    "                     [0., 0., 1., 0.]])\n",
    "    \n",
    "    kf.B = np.array([[0., 0., 0., dt]]).T\n",
    "    kf.R *= r\n",
    "    kf.Q *= q\n",
    "\n",
    "    omega = radians(omega)\n",
    "    vx = cos(omega) * v0\n",
    "    vy = sin(omega) * v0\n",
    "    kf.x = np.array([[x, vx, y, vy]]).T\n",
    "    return kf"
   ]
  },
  {
   "cell_type": "code",
   "execution_count": 10,
   "metadata": {},
   "outputs": [
    {
     "data": {
      "image/png": "[encoded data removed]",
      "text/plain": [
       "<Figure size 432x288 with 1 Axes>"
      ]
     },
     "metadata": {
      "needs_background": "light"
     },
     "output_type": "display_data"
    }
   ],
   "source": [
    "def track_ball_vacuum(dt):\n",
    "    x, y = 0., 1.\n",
    "    theta = 35. # launch angle\n",
    "    v0 = 80.\n",
    "    g = 9.8 # gravitational constant\n",
    "    ball = BallTrajectory2D(x0=x, y0=y, theta_deg=theta, velocity=v0, \n",
    "                            noise=[.2, .2])\n",
    "    kf = ball_kf(x, y, theta, v0, dt)\n",
    "\n",
    "    t = 0\n",
    "    xs, ys = [], []\n",
    "    while kf.x[2] > 0:\n",
    "        t += dt\n",
    "        x, y = ball.step(dt)\n",
    "        z = np.array([[x, y]]).T\n",
    "\n",
    "        kf.update(z)\n",
    "        xs.append(kf.x[0])\n",
    "        ys.append(kf.x[2])    \n",
    "        kf.predict(u=-g)     \n",
    "        p1 = plt.scatter(x, y, color='r', marker='.', s=75, alpha=0.5)\n",
    "\n",
    "    p2, = plt.plot(xs, ys, lw=2)\n",
    "    plt.legend([p2, p1], ['Kalman filter', 'Measurements'],\n",
    "               scatterpoints=1)\n",
    "    \n",
    "track_ball_vacuum(dt=1./10)"
   ]
  },
  {
   "cell_type": "code",
   "execution_count": null,
   "metadata": {},
   "outputs": [],
   "source": []
  }
 ],
 "metadata": {
  "kernelspec": {
   "display_name": "Python 3",
   "language": "python",
   "name": "python3"
  },
  "language_info": {
   "codemirror_mode": {
    "name": "ipython",
    "version": 3
   },
   "file_extension": ".py",
   "mimetype": "text/x-python",
   "name": "python",
   "nbconvert_exporter": "python",
   "pygments_lexer": "ipython3",
   "version": "3.7.3"
  }
 },
 "nbformat": 4,
 "nbformat_minor": 2
}
