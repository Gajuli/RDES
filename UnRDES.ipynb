{
 "cells": [
  {
   "cell_type": "code",
   "execution_count": 1,
   "metadata": {
    "collapsed": true
   },
   "outputs": [],
   "source": [
    "import libcrypt as lc\n",
    "import RDES as rd"
   ]
  },
  {
   "cell_type": "code",
   "execution_count": 2,
   "metadata": {
    "collapsed": true
   },
   "outputs": [],
   "source": [
    "shifr=rd.read_txt('res.txt')\n",
    "key=rd.read_txt('key.txt')"
   ]
  },
  {
   "cell_type": "code",
   "execution_count": 3,
   "metadata": {
    "collapsed": false
   },
   "outputs": [],
   "source": [
    "lol=rd.un_algoritm(shifr,key)"
   ]
  },
  {
   "cell_type": "code",
   "execution_count": 6,
   "metadata": {
    "collapsed": true
   },
   "outputs": [],
   "source": [
    "def bin_to_txt(text):\n",
    "    res=''\n",
    "    i=0\n",
    "    tmp_txt=text\n",
    "    while len(tmp_txt)!=0:\n",
    "        tmp_ord_bin=tmp_txt[(len(tmp_txt)-11):len(tmp_txt)]\n",
    "        tmp_txt=tmp_txt[0:(len(tmp_txt)-11)]\n",
    "        tmp_ord=int(tmp_ord_bin,2)\n",
    "        if tmp_ord!=0:\n",
    "            res=chr(tmp_ord)+res\n",
    "        i+=1\n",
    "    rd.write_txt(res, 'un_shifr.txt')\n",
    "    return(res)"
   ]
  },
  {
   "cell_type": "code",
   "execution_count": 7,
   "metadata": {
    "collapsed": false
   },
   "outputs": [
    {
     "data": {
      "text/plain": [
       "'Я, Гусев Юрий Сергеевич, дата рождения 03.04.1997, место рождения г. Нижний Новгород, страна РФ, проживающий по адресу: город Нижний Новгород, ул. Мончегорская, д. 16а/3. Сдаю зачет по криптографии.'"
      ]
     },
     "execution_count": 7,
     "metadata": {},
     "output_type": "execute_result"
    }
   ],
   "source": [
    "bin_to_txt(lol)"
   ]
  },
  {
   "cell_type": "code",
   "execution_count": null,
   "metadata": {
    "collapsed": true
   },
   "outputs": [],
   "source": []
  }
 ],
 "metadata": {
  "kernelspec": {
   "display_name": "Python 3",
   "language": "python",
   "name": "python3"
  },
  "language_info": {
   "codemirror_mode": {
    "name": "ipython",
    "version": 3
   },
   "file_extension": ".py",
   "mimetype": "text/x-python",
   "name": "python",
   "nbconvert_exporter": "python",
   "pygments_lexer": "ipython3",
   "version": "3.6.0"
  }
 },
 "nbformat": 4,
 "nbformat_minor": 2
}
